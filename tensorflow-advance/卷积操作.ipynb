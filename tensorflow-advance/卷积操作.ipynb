{
 "cells": [
  {
   "cell_type": "code",
   "execution_count": 1,
   "metadata": {},
   "outputs": [],
   "source": [
    "import numpy as np\n",
    "\n",
    "import matplotlib.pyplot as plt\n",
    "%matplotlib inline"
   ]
  },
  {
   "cell_type": "code",
   "execution_count": 2,
   "metadata": {
    "collapsed": true
   },
   "outputs": [
    {
     "name": "stderr",
     "output_type": "stream",
     "text": [
      "d:\\python3.6.8\\lib\\importlib\\_bootstrap.py:219: RuntimeWarning: numpy.ufunc size changed, may indicate binary incompatibility. Expected 192 from C header, got 216 from PyObject\n",
      "  return f(*args, **kwds)\n",
      "d:\\python3.6.8\\lib\\importlib\\_bootstrap.py:219: RuntimeWarning: numpy.ufunc size changed, may indicate binary incompatibility. Expected 192 from C header, got 216 from PyObject\n",
      "  return f(*args, **kwds)\n",
      "d:\\python3.6.8\\lib\\importlib\\_bootstrap.py:219: RuntimeWarning: numpy.ufunc size changed, may indicate binary incompatibility. Expected 192 from C header, got 216 from PyObject\n",
      "  return f(*args, **kwds)\n"
     ]
    }
   ],
   "source": [
    "import tensorflow as tf"
   ]
  },
  {
   "cell_type": "code",
   "execution_count": 3,
   "metadata": {
    "scrolled": true
   },
   "outputs": [
    {
     "data": {
      "text/plain": [
       "array([[2, 1, 0, 2, 3],\n",
       "       [9, 5, 4, 2, 0],\n",
       "       [2, 3, 4, 5, 6],\n",
       "       [1, 2, 3, 1, 0],\n",
       "       [0, 4, 4, 2, 8]])"
      ]
     },
     "execution_count": 3,
     "metadata": {},
     "output_type": "execute_result"
    }
   ],
   "source": [
    "data = np.array([[2,1,0,2,3],[9,5,4,2,0],[2,3,4,5,6],[1,2,3,1,0],[0,4,4,2,8]])\n",
    "data"
   ]
  },
  {
   "cell_type": "code",
   "execution_count": 4,
   "metadata": {
    "scrolled": true
   },
   "outputs": [
    {
     "data": {
      "text/plain": [
       "array([[-1,  0,  1],\n",
       "       [-1,  0,  1],\n",
       "       [-1,  0,  1]])"
      ]
     },
     "execution_count": 4,
     "metadata": {},
     "output_type": "execute_result"
    }
   ],
   "source": [
    "filter_ = np.array([[-1,0,1],[-1,0,1],[-1,0,1]])\n",
    "filter_"
   ]
  },
  {
   "cell_type": "code",
   "execution_count": 8,
   "metadata": {},
   "outputs": [
    {
     "name": "stdout",
     "output_type": "stream",
     "text": [
      "[[-5.  0.  1.]\n",
      " [-1. -2. -5.]\n",
      " [ 8. -1.  3.]]\n"
     ]
    }
   ],
   "source": [
    "'''tf.nn.conv2d(\n",
    "    input,\n",
    "    filter,\n",
    "    strides,\n",
    "    padding,\n",
    "    use_cudnn_on_gpu=True,\n",
    "    data_format='NHWC',\n",
    "    dilations=[1, 1, 1, 1],\n",
    "    name=None,\n",
    ")'''\n",
    "# input Given an input tensor of shape `[batch, in_height, in_width, in_channels]`\n",
    "\n",
    "input_data = tf.reshape(data,shape = [1,5,5,1])\n",
    "\n",
    "input_data = tf.cast(input_data,dtype=tf.float32)\n",
    "\n",
    "# and a filter / kernel tensor of shape\n",
    "\n",
    "# `[filter_height, filter_width, in_channels, out_channels]`\n",
    "\n",
    "filter_ = tf.cast(tf.reshape(filter_,shape = [3,3,1,1]),dtype=tf.float32)\n",
    "\n",
    "# strides: A list of `ints`.\n",
    "#     1-D tensor of length 4.\n",
    "\n",
    "# adding: A `string` from: `\"SAME\", \"VALID\"`.\n",
    "conv = tf.nn.conv2d(input= input_data,filter=filter_,strides=[1,1,1,1],padding='VALID')\n",
    "conv\n",
    "\n",
    "with tf.Session() as sess:\n",
    "    ret = sess.run(conv)\n",
    "    \n",
    "    print(ret.reshape(3,3))"
   ]
  }
 ],
 "metadata": {
  "kernelspec": {
   "display_name": "Python 3",
   "language": "python",
   "name": "python3"
  },
  "language_info": {
   "codemirror_mode": {
    "name": "ipython",
    "version": 3
   },
   "file_extension": ".py",
   "mimetype": "text/x-python",
   "name": "python",
   "nbconvert_exporter": "python",
   "pygments_lexer": "ipython3",
   "version": "3.6.8"
  }
 },
 "nbformat": 4,
 "nbformat_minor": 2
}
